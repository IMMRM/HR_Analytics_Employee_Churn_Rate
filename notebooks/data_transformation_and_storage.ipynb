{
 "cells": [
  {
   "cell_type": "code",
   "execution_count": 2,
   "metadata": {},
   "outputs": [
    {
     "data": {
      "text/plain": [
       "'c:\\\\Users\\\\asus\\\\Documents\\\\Projects\\\\ECommerce Customer Churn Prediction\\\\notebooks'"
      ]
     },
     "execution_count": 2,
     "metadata": {},
     "output_type": "execute_result"
    }
   ],
   "source": [
    "pwd()"
   ]
  },
  {
   "cell_type": "code",
   "execution_count": 3,
   "metadata": {},
   "outputs": [],
   "source": [
    "import os\n",
    "os.chdir(\"../\")"
   ]
  },
  {
   "cell_type": "code",
   "execution_count": 3,
   "metadata": {},
   "outputs": [],
   "source": [
    "import pandas as pd\n",
    "import numpy as np\n",
    "import pyodbc\n",
    "from sklearn.preprocessing import StandardScaler\n",
    "from src.configuration.config import ConfigurationManager\n",
    "\n"
   ]
  },
  {
   "cell_type": "code",
   "execution_count": 8,
   "metadata": {},
   "outputs": [],
   "source": [
    "import os\n",
    "import pandas as pd\n",
    "import pyodbc\n",
    "from src.logger import logger\n",
    "import sqlite3\n",
    "\n",
    "class DataTransformationStorage:\n",
    "    def __init__(self):\n",
    "        self.config=ConfigurationManager().get_data_storage_config()\n",
    "        #self.data_config=ConfigurationManager().get_data_ingestion_config()\n",
    "        print(self.config)\n",
    "    def store_in_sql(self,df):\n",
    "        # SQLite Database Setup\n",
    "        conn = sqlite3.connect(self.config.db_path)\n",
    "        cursor = conn.cursor()\n",
    "\n",
    "        # Create Table for Transformed Data\n",
    "        cursor.execute(f'''\n",
    "        CREATE TABLE IF NOT EXISTS {self.config.data_table_name} (\n",
    "            CustomerID INTEGER PRIMARY KEY,\n",
    "            Churn INTEGER,\n",
    "            Tenure REAL,\n",
    "            NumberOfDeviceRegistered INTEGER,\n",
    "            PreferedOrderCat INTEGER,\n",
    "            SatisfactionScore INTEGER,\n",
    "            MaritalStatus INTEGER,\n",
    "            Complain INTEGER,\n",
    "            DaySinceLastOrder REAL,\n",
    "            CashbackAmount REAL,\n",
    "            TotalSpend REAL,\n",
    "            ActivityFrequency REAL,\n",
    "            IsLongTermCustomer INTEGER\n",
    "        );\n",
    "        ''')\n",
    "\n",
    "        # Insert Transformed Data into Database\n",
    "        df.to_sql(self.config.data_table_name, conn, if_exists=\"replace\", index=False)\n",
    "        conn.close()\n",
    "    \n",
    "    def data_transformation(self):\n",
    "        \n",
    "        df=pd.read_csv(self.config.processed+\"churn_data_prepared.csv\")\n",
    "        # Feature Engineering\n",
    "        # Aggregated Feature: Total spend per customer (Assuming CashbackAmount as a proxy for spend)\n",
    "        df[\"TotalSpend\"] = df[\"CashbackAmount\"] * df[\"Tenure\"]\n",
    "\n",
    "        # Derived Feature: Activity Frequency\n",
    "        df[\"ActivityFrequency\"] = df[\"NumberOfDeviceRegistered\"] / df[\"Tenure\"].replace(0, 1)\n",
    "        \n",
    "        self.store_in_sql(df)\n",
    "        \n",
    "        \n",
    "        "
   ]
  },
  {
   "cell_type": "code",
   "execution_count": 10,
   "metadata": {},
   "outputs": [
    {
     "name": "stdout",
     "output_type": "stream",
     "text": [
      "[2025-03-01 13:10:17,064 : INFO: common: yaml file config\\config.yaml loaded successfully!]\n",
      "[2025-03-01 13:10:17,080 : INFO: common: yaml file config\\params.yaml loaded successfully!]\n",
      "[2025-03-01 13:10:17,096 : INFO: common: yaml file config\\schema.yaml loaded successfully!]\n",
      "DataStorageConnectionConfig(db_path='config/churn_data.db', processed='data/processed/', data_table_name='transformed_churn_data')\n"
     ]
    }
   ],
   "source": [
    "obj=DataTransformationStorage()\n",
    "obj.data_transformation()"
   ]
  },
  {
   "cell_type": "code",
   "execution_count": 15,
   "metadata": {},
   "outputs": [
    {
     "data": {
      "text/plain": [
       "'c:\\\\Users\\\\asus\\\\Documents\\\\Projects\\\\ECommerce Customer Churn Prediction'"
      ]
     },
     "execution_count": 15,
     "metadata": {},
     "output_type": "execute_result"
    }
   ],
   "source": [
    "pwd()"
   ]
  },
  {
   "cell_type": "code",
   "execution_count": 7,
   "metadata": {},
   "outputs": [
    {
     "data": {
      "text/html": [
       "<div>\n",
       "<style scoped>\n",
       "    .dataframe tbody tr th:only-of-type {\n",
       "        vertical-align: middle;\n",
       "    }\n",
       "\n",
       "    .dataframe tbody tr th {\n",
       "        vertical-align: top;\n",
       "    }\n",
       "\n",
       "    .dataframe thead th {\n",
       "        text-align: right;\n",
       "    }\n",
       "</style>\n",
       "<table border=\"1\" class=\"dataframe\">\n",
       "  <thead>\n",
       "    <tr style=\"text-align: right;\">\n",
       "      <th></th>\n",
       "      <th>Churn</th>\n",
       "      <th>Tenure</th>\n",
       "      <th>NumberOfDeviceRegistered</th>\n",
       "      <th>PreferedOrderCat</th>\n",
       "      <th>SatisfactionScore</th>\n",
       "      <th>MaritalStatus</th>\n",
       "      <th>Complain</th>\n",
       "      <th>DaySinceLastOrder</th>\n",
       "      <th>CashbackAmount</th>\n",
       "      <th>CustomerID</th>\n",
       "      <th>TotalSpend</th>\n",
       "      <th>ActivityFrequency</th>\n",
       "      <th>event_timestamp</th>\n",
       "    </tr>\n",
       "  </thead>\n",
       "  <tbody>\n",
       "    <tr>\n",
       "      <th>0</th>\n",
       "      <td>1</td>\n",
       "      <td>-0.733989</td>\n",
       "      <td>3</td>\n",
       "      <td>2</td>\n",
       "      <td>2</td>\n",
       "      <td>2</td>\n",
       "      <td>1</td>\n",
       "      <td>0.151436</td>\n",
       "      <td>-0.351465</td>\n",
       "      <td>50001</td>\n",
       "      <td>0.257972</td>\n",
       "      <td>-4.087252</td>\n",
       "      <td>2025-03-01 22:35:06+00:00</td>\n",
       "    </tr>\n",
       "    <tr>\n",
       "      <th>1</th>\n",
       "      <td>1</td>\n",
       "      <td>-0.135704</td>\n",
       "      <td>4</td>\n",
       "      <td>3</td>\n",
       "      <td>3</td>\n",
       "      <td>2</td>\n",
       "      <td>1</td>\n",
       "      <td>-1.249003</td>\n",
       "      <td>-1.144715</td>\n",
       "      <td>50002</td>\n",
       "      <td>0.155342</td>\n",
       "      <td>-29.476013</td>\n",
       "      <td>2025-03-01 22:35:06+00:00</td>\n",
       "    </tr>\n",
       "    <tr>\n",
       "      <th>2</th>\n",
       "      <td>1</td>\n",
       "      <td>-0.135704</td>\n",
       "      <td>4</td>\n",
       "      <td>3</td>\n",
       "      <td>3</td>\n",
       "      <td>2</td>\n",
       "      <td>1</td>\n",
       "      <td>-0.408739</td>\n",
       "      <td>-1.157316</td>\n",
       "      <td>50003</td>\n",
       "      <td>0.157052</td>\n",
       "      <td>-29.476013</td>\n",
       "      <td>2025-03-01 22:35:06+00:00</td>\n",
       "    </tr>\n",
       "    <tr>\n",
       "      <th>3</th>\n",
       "      <td>1</td>\n",
       "      <td>-1.212618</td>\n",
       "      <td>4</td>\n",
       "      <td>2</td>\n",
       "      <td>5</td>\n",
       "      <td>2</td>\n",
       "      <td>0</td>\n",
       "      <td>-0.408739</td>\n",
       "      <td>-0.877047</td>\n",
       "      <td>50004</td>\n",
       "      <td>1.063523</td>\n",
       "      <td>-3.298648</td>\n",
       "      <td>2025-03-01 22:35:06+00:00</td>\n",
       "    </tr>\n",
       "    <tr>\n",
       "      <th>4</th>\n",
       "      <td>1</td>\n",
       "      <td>-1.212618</td>\n",
       "      <td>3</td>\n",
       "      <td>3</td>\n",
       "      <td>5</td>\n",
       "      <td>2</td>\n",
       "      <td>0</td>\n",
       "      <td>-0.408739</td>\n",
       "      <td>-0.967895</td>\n",
       "      <td>50005</td>\n",
       "      <td>1.173687</td>\n",
       "      <td>-2.473986</td>\n",
       "      <td>2025-03-01 22:35:06+00:00</td>\n",
       "    </tr>\n",
       "    <tr>\n",
       "      <th>...</th>\n",
       "      <td>...</td>\n",
       "      <td>...</td>\n",
       "      <td>...</td>\n",
       "      <td>...</td>\n",
       "      <td>...</td>\n",
       "      <td>...</td>\n",
       "      <td>...</td>\n",
       "      <td>...</td>\n",
       "      <td>...</td>\n",
       "      <td>...</td>\n",
       "      <td>...</td>\n",
       "      <td>...</td>\n",
       "      <td>...</td>\n",
       "    </tr>\n",
       "    <tr>\n",
       "      <th>5625</th>\n",
       "      <td>0</td>\n",
       "      <td>-0.016046</td>\n",
       "      <td>2</td>\n",
       "      <td>2</td>\n",
       "      <td>1</td>\n",
       "      <td>1</td>\n",
       "      <td>0</td>\n",
       "      <td>-0.128651</td>\n",
       "      <td>-0.538854</td>\n",
       "      <td>55626</td>\n",
       "      <td>0.008647</td>\n",
       "      <td>-124.638638</td>\n",
       "      <td>2025-03-01 22:35:06+00:00</td>\n",
       "    </tr>\n",
       "    <tr>\n",
       "      <th>5626</th>\n",
       "      <td>0</td>\n",
       "      <td>0.342925</td>\n",
       "      <td>5</td>\n",
       "      <td>0</td>\n",
       "      <td>5</td>\n",
       "      <td>1</td>\n",
       "      <td>0</td>\n",
       "      <td>-0.408739</td>\n",
       "      <td>0.969195</td>\n",
       "      <td>55627</td>\n",
       "      <td>0.332361</td>\n",
       "      <td>14.580442</td>\n",
       "      <td>2025-03-01 22:35:06+00:00</td>\n",
       "    </tr>\n",
       "    <tr>\n",
       "      <th>5627</th>\n",
       "      <td>0</td>\n",
       "      <td>-1.092961</td>\n",
       "      <td>2</td>\n",
       "      <td>2</td>\n",
       "      <td>4</td>\n",
       "      <td>1</td>\n",
       "      <td>1</td>\n",
       "      <td>-0.128651</td>\n",
       "      <td>0.186920</td>\n",
       "      <td>55628</td>\n",
       "      <td>-0.204296</td>\n",
       "      <td>-1.829892</td>\n",
       "      <td>2025-03-01 22:35:06+00:00</td>\n",
       "    </tr>\n",
       "    <tr>\n",
       "      <th>5628</th>\n",
       "      <td>0</td>\n",
       "      <td>1.539497</td>\n",
       "      <td>5</td>\n",
       "      <td>2</td>\n",
       "      <td>4</td>\n",
       "      <td>1</td>\n",
       "      <td>0</td>\n",
       "      <td>1.271788</td>\n",
       "      <td>0.034083</td>\n",
       "      <td>55629</td>\n",
       "      <td>0.052471</td>\n",
       "      <td>3.247814</td>\n",
       "      <td>2025-03-01 22:35:06+00:00</td>\n",
       "    </tr>\n",
       "    <tr>\n",
       "      <th>5629</th>\n",
       "      <td>0</td>\n",
       "      <td>-0.255361</td>\n",
       "      <td>2</td>\n",
       "      <td>2</td>\n",
       "      <td>3</td>\n",
       "      <td>1</td>\n",
       "      <td>0</td>\n",
       "      <td>-0.408739</td>\n",
       "      <td>-0.166313</td>\n",
       "      <td>55630</td>\n",
       "      <td>0.042470</td>\n",
       "      <td>-7.832058</td>\n",
       "      <td>2025-03-01 22:35:06+00:00</td>\n",
       "    </tr>\n",
       "  </tbody>\n",
       "</table>\n",
       "<p>5630 rows × 13 columns</p>\n",
       "</div>"
      ],
      "text/plain": [
       "      Churn    Tenure  NumberOfDeviceRegistered  PreferedOrderCat  \\\n",
       "0         1 -0.733989                         3                 2   \n",
       "1         1 -0.135704                         4                 3   \n",
       "2         1 -0.135704                         4                 3   \n",
       "3         1 -1.212618                         4                 2   \n",
       "4         1 -1.212618                         3                 3   \n",
       "...     ...       ...                       ...               ...   \n",
       "5625      0 -0.016046                         2                 2   \n",
       "5626      0  0.342925                         5                 0   \n",
       "5627      0 -1.092961                         2                 2   \n",
       "5628      0  1.539497                         5                 2   \n",
       "5629      0 -0.255361                         2                 2   \n",
       "\n",
       "      SatisfactionScore  MaritalStatus  Complain  DaySinceLastOrder  \\\n",
       "0                     2              2         1           0.151436   \n",
       "1                     3              2         1          -1.249003   \n",
       "2                     3              2         1          -0.408739   \n",
       "3                     5              2         0          -0.408739   \n",
       "4                     5              2         0          -0.408739   \n",
       "...                 ...            ...       ...                ...   \n",
       "5625                  1              1         0          -0.128651   \n",
       "5626                  5              1         0          -0.408739   \n",
       "5627                  4              1         1          -0.128651   \n",
       "5628                  4              1         0           1.271788   \n",
       "5629                  3              1         0          -0.408739   \n",
       "\n",
       "      CashbackAmount  CustomerID  TotalSpend  ActivityFrequency  \\\n",
       "0          -0.351465       50001    0.257972          -4.087252   \n",
       "1          -1.144715       50002    0.155342         -29.476013   \n",
       "2          -1.157316       50003    0.157052         -29.476013   \n",
       "3          -0.877047       50004    1.063523          -3.298648   \n",
       "4          -0.967895       50005    1.173687          -2.473986   \n",
       "...              ...         ...         ...                ...   \n",
       "5625       -0.538854       55626    0.008647        -124.638638   \n",
       "5626        0.969195       55627    0.332361          14.580442   \n",
       "5627        0.186920       55628   -0.204296          -1.829892   \n",
       "5628        0.034083       55629    0.052471           3.247814   \n",
       "5629       -0.166313       55630    0.042470          -7.832058   \n",
       "\n",
       "               event_timestamp  \n",
       "0    2025-03-01 22:35:06+00:00  \n",
       "1    2025-03-01 22:35:06+00:00  \n",
       "2    2025-03-01 22:35:06+00:00  \n",
       "3    2025-03-01 22:35:06+00:00  \n",
       "4    2025-03-01 22:35:06+00:00  \n",
       "...                        ...  \n",
       "5625 2025-03-01 22:35:06+00:00  \n",
       "5626 2025-03-01 22:35:06+00:00  \n",
       "5627 2025-03-01 22:35:06+00:00  \n",
       "5628 2025-03-01 22:35:06+00:00  \n",
       "5629 2025-03-01 22:35:06+00:00  \n",
       "\n",
       "[5630 rows x 13 columns]"
      ]
     },
     "execution_count": 7,
     "metadata": {},
     "output_type": "execute_result"
    }
   ],
   "source": [
    "from pathlib import Path\n",
    "import pandas as pd\n",
    "df=pd.read_parquet(Path().cwd()/'data/processed/transformed_churn_data.parquet')\n",
    "df"
   ]
  },
  {
   "cell_type": "code",
   "execution_count": 8,
   "metadata": {},
   "outputs": [
    {
     "name": "stdout",
     "output_type": "stream",
     "text": [
      "<class 'pandas.core.frame.DataFrame'>\n",
      "RangeIndex: 5630 entries, 0 to 5629\n",
      "Data columns (total 13 columns):\n",
      " #   Column                    Non-Null Count  Dtype              \n",
      "---  ------                    --------------  -----              \n",
      " 0   Churn                     5630 non-null   int64              \n",
      " 1   Tenure                    5630 non-null   float64            \n",
      " 2   NumberOfDeviceRegistered  5630 non-null   int64              \n",
      " 3   PreferedOrderCat          5630 non-null   int64              \n",
      " 4   SatisfactionScore         5630 non-null   int64              \n",
      " 5   MaritalStatus             5630 non-null   int64              \n",
      " 6   Complain                  5630 non-null   int64              \n",
      " 7   DaySinceLastOrder         5630 non-null   float64            \n",
      " 8   CashbackAmount            5630 non-null   float64            \n",
      " 9   CustomerID                5630 non-null   int64              \n",
      " 10  TotalSpend                5630 non-null   float64            \n",
      " 11  ActivityFrequency         5630 non-null   float64            \n",
      " 12  event_timestamp           5630 non-null   datetime64[ns, UTC]\n",
      "dtypes: datetime64[ns, UTC](1), float64(5), int64(7)\n",
      "memory usage: 571.9 KB\n"
     ]
    }
   ],
   "source": [
    "df.info()"
   ]
  },
  {
   "cell_type": "code",
   "execution_count": 30,
   "metadata": {},
   "outputs": [],
   "source": [
    "# checking feature store\n",
    "from feast import Feature, Entity, FeatureView, ValueType,FileSource,Field\n",
    "from feast.types import Int64"
   ]
  },
  {
   "cell_type": "code",
   "execution_count": 18,
   "metadata": {},
   "outputs": [],
   "source": [
    "#Define the entity (Customer)\n",
    "customer=Entity(\n",
    "    name=\"CustomerID\",\n",
    "    value_type=ValueType.INT64,\n",
    "    description=\"Customer ID\"\n",
    ")\n"
   ]
  },
  {
   "cell_type": "code",
   "execution_count": 23,
   "metadata": {},
   "outputs": [
    {
     "data": {
      "text/plain": [
       "<feast.infra.offline_stores.file_source.FileSource at 0x27f900bfcd0>"
      ]
     },
     "execution_count": 23,
     "metadata": {},
     "output_type": "execute_result"
    }
   ],
   "source": [
    "#Define the data source\n",
    "data_source=FileSource(\n",
    "    path=str(Path().cwd()/\"data/processed/transformed_churn_data.parquet\"),\n",
    "    event_timestamp_column='event_timestamp'\n",
    ")\n",
    "data_source"
   ]
  },
  {
   "cell_type": "code",
   "execution_count": 32,
   "metadata": {},
   "outputs": [],
   "source": [
    "customer_features=FeatureView(\n",
    "    name=\"customer_features\", #Name of this feature view\n",
    "    entities=[customer],\n",
    "    ttl=None,\n",
    "    schema=[\n",
    "        Field(name=\"Tenure\", dtype=Int64)\n",
    "    ],\n",
    "    online=True,\n",
    "    source=data_source,\n",
    ")"
   ]
  },
  {
   "cell_type": "code",
   "execution_count": 13,
   "metadata": {},
   "outputs": [
    {
     "data": {
      "text/plain": [
       "'c:\\\\Users\\\\asus\\\\Documents\\\\Projects\\\\ECommerce Customer Churn Prediction\\\\churn_feature_store\\\\feature_repo'"
      ]
     },
     "execution_count": 13,
     "metadata": {},
     "output_type": "execute_result"
    }
   ],
   "source": [
    "pwd()"
   ]
  },
  {
   "cell_type": "code",
   "execution_count": 12,
   "metadata": {},
   "outputs": [],
   "source": [
    "os.chdir(\"churn_feature_store/feature_repo\")"
   ]
  },
  {
   "cell_type": "code",
   "execution_count": null,
   "metadata": {},
   "outputs": [
    {
     "name": "stdout",
     "output_type": "stream",
     "text": [
      "{'CustomerID': [50001], 'TotalSpend': [0.25797182415006437], 'ActivityFrequency': [-4.0872522866689085]}\n"
     ]
    },
    {
     "name": "stderr",
     "output_type": "stream",
     "text": [
      "c:\\Users\\asus\\anaconda3\\envs\\venv\\Lib\\site-packages\\feast\\entity.py:173: DeprecationWarning: Entity value_type will be mandatory in the next release. Please specify a value_type for entity 'CustomerID'.\n",
      "  entity = cls(\n",
      "c:\\Users\\asus\\anaconda3\\envs\\venv\\Lib\\site-packages\\feast\\entity.py:173: DeprecationWarning: Entity value_type will be mandatory in the next release. Please specify a value_type for entity '__dummy'.\n",
      "  entity = cls(\n",
      "c:\\Users\\asus\\anaconda3\\envs\\venv\\Lib\\site-packages\\feast\\entity.py:173: DeprecationWarning: Entity value_type will be mandatory in the next release. Please specify a value_type for entity 'driver'.\n",
      "  entity = cls(\n"
     ]
    }
   ],
   "source": [
    "from feast import FeatureStore\n",
    "\n",
    "store = FeatureStore(repo_path=\".\")  # Assumes feature_store.yaml is in the current directory\n",
    "\n",
    "# Retrieve online features for a specific customer\n",
    "online_features = store.get_online_features(\n",
    "    features=[\"customer_features:TotalSpend\", \"customer_features:ActivityFrequency\"],\n",
    "    entity_rows=[{\"CustomerID\": 50001}],  # Replace with a valid CustomerID from your data\n",
    ").to_dict()\n",
    "\n",
    "\n",
    "print(online_features)"
   ]
  },
  {
   "cell_type": "code",
   "execution_count": null,
   "metadata": {},
   "outputs": [],
   "source": []
  }
 ],
 "metadata": {
  "kernelspec": {
   "display_name": "venv",
   "language": "python",
   "name": "python3"
  },
  "language_info": {
   "codemirror_mode": {
    "name": "ipython",
    "version": 3
   },
   "file_extension": ".py",
   "mimetype": "text/x-python",
   "name": "python",
   "nbconvert_exporter": "python",
   "pygments_lexer": "ipython3",
   "version": "3.11.11"
  }
 },
 "nbformat": 4,
 "nbformat_minor": 2
}
