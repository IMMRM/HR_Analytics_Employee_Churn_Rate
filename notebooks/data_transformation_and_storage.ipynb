{
 "cells": [
  {
   "cell_type": "code",
   "execution_count": 1,
   "metadata": {},
   "outputs": [
    {
     "data": {
      "text/plain": [
       "'c:\\\\Users\\\\asus\\\\Documents\\\\Projects\\\\ECommerce Customer Churn Prediction\\\\notebooks'"
      ]
     },
     "execution_count": 1,
     "metadata": {},
     "output_type": "execute_result"
    }
   ],
   "source": [
    "pwd()"
   ]
  },
  {
   "cell_type": "code",
   "execution_count": 2,
   "metadata": {},
   "outputs": [],
   "source": [
    "import os\n",
    "os.chdir(\"../\")"
   ]
  },
  {
   "cell_type": "code",
   "execution_count": 3,
   "metadata": {},
   "outputs": [],
   "source": [
    "import pandas as pd\n",
    "import numpy as np\n",
    "import pyodbc\n",
    "from sklearn.preprocessing import StandardScaler\n",
    "from src.configuration.config import ConfigurationManager\n",
    "\n"
   ]
  },
  {
   "cell_type": "code",
   "execution_count": 8,
   "metadata": {},
   "outputs": [],
   "source": [
    "import os\n",
    "import pandas as pd\n",
    "import pyodbc\n",
    "from src.logger import logger\n",
    "import sqlite3\n",
    "\n",
    "class DataTransformationStorage:\n",
    "    def __init__(self):\n",
    "        self.config=ConfigurationManager().get_data_storage_config()\n",
    "        #self.data_config=ConfigurationManager().get_data_ingestion_config()\n",
    "        print(self.config)\n",
    "    def store_in_sql(self,df):\n",
    "        # SQLite Database Setup\n",
    "        conn = sqlite3.connect(self.config.db_path)\n",
    "        cursor = conn.cursor()\n",
    "\n",
    "        # Create Table for Transformed Data\n",
    "        cursor.execute(f'''\n",
    "        CREATE TABLE IF NOT EXISTS {self.config.data_table_name} (\n",
    "            CustomerID INTEGER PRIMARY KEY,\n",
    "            Churn INTEGER,\n",
    "            Tenure REAL,\n",
    "            NumberOfDeviceRegistered INTEGER,\n",
    "            PreferedOrderCat INTEGER,\n",
    "            SatisfactionScore INTEGER,\n",
    "            MaritalStatus INTEGER,\n",
    "            Complain INTEGER,\n",
    "            DaySinceLastOrder REAL,\n",
    "            CashbackAmount REAL,\n",
    "            TotalSpend REAL,\n",
    "            ActivityFrequency REAL,\n",
    "            IsLongTermCustomer INTEGER\n",
    "        );\n",
    "        ''')\n",
    "\n",
    "        # Insert Transformed Data into Database\n",
    "        df.to_sql(self.config.data_table_name, conn, if_exists=\"replace\", index=False)\n",
    "        conn.close()\n",
    "    \n",
    "    def data_transformation(self):\n",
    "        \n",
    "        df=pd.read_csv(self.config.processed+\"churn_data_prepared.csv\")\n",
    "        # Feature Engineering\n",
    "        # Aggregated Feature: Total spend per customer (Assuming CashbackAmount as a proxy for spend)\n",
    "        df[\"TotalSpend\"] = df[\"CashbackAmount\"] * df[\"Tenure\"]\n",
    "\n",
    "        # Derived Feature: Activity Frequency\n",
    "        df[\"ActivityFrequency\"] = df[\"NumberOfDeviceRegistered\"] / df[\"Tenure\"].replace(0, 1)\n",
    "        \n",
    "        self.store_in_sql(df)\n",
    "        \n",
    "        \n",
    "        "
   ]
  },
  {
   "cell_type": "code",
   "execution_count": 10,
   "metadata": {},
   "outputs": [
    {
     "name": "stdout",
     "output_type": "stream",
     "text": [
      "[2025-03-01 13:10:17,064 : INFO: common: yaml file config\\config.yaml loaded successfully!]\n",
      "[2025-03-01 13:10:17,080 : INFO: common: yaml file config\\params.yaml loaded successfully!]\n",
      "[2025-03-01 13:10:17,096 : INFO: common: yaml file config\\schema.yaml loaded successfully!]\n",
      "DataStorageConnectionConfig(db_path='config/churn_data.db', processed='data/processed/', data_table_name='transformed_churn_data')\n"
     ]
    }
   ],
   "source": [
    "obj=DataTransformationStorage()\n",
    "obj.data_transformation()"
   ]
  },
  {
   "cell_type": "code",
   "execution_count": null,
   "metadata": {},
   "outputs": [],
   "source": []
  }
 ],
 "metadata": {
  "kernelspec": {
   "display_name": "venv",
   "language": "python",
   "name": "python3"
  },
  "language_info": {
   "codemirror_mode": {
    "name": "ipython",
    "version": 3
   },
   "file_extension": ".py",
   "mimetype": "text/x-python",
   "name": "python",
   "nbconvert_exporter": "python",
   "pygments_lexer": "ipython3",
   "version": "3.11.11"
  }
 },
 "nbformat": 4,
 "nbformat_minor": 2
}
