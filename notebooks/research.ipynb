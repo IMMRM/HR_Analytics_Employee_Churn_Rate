{
 "cells": [
  {
   "cell_type": "code",
   "execution_count": 2,
   "metadata": {},
   "outputs": [],
   "source": [
    "from box import ConfigBox"
   ]
  },
  {
   "cell_type": "code",
   "execution_count": 1,
   "metadata": {},
   "outputs": [
    {
     "name": "stdout",
     "output_type": "stream",
     "text": [
      "ehll\n"
     ]
    }
   ],
   "source": [
    "print(\"ehll\")"
   ]
  },
  {
   "cell_type": "code",
   "execution_count": 3,
   "metadata": {},
   "outputs": [
    {
     "ename": "ModuleNotFoundError",
     "evalue": "No module named 'src'",
     "output_type": "error",
     "traceback": [
      "\u001b[1;31m---------------------------------------------------------------------------\u001b[0m",
      "\u001b[1;31mModuleNotFoundError\u001b[0m                       Traceback (most recent call last)",
      "Cell \u001b[1;32mIn[3], line 1\u001b[0m\n\u001b[1;32m----> 1\u001b[0m \u001b[38;5;28;01mfrom\u001b[39;00m\u001b[38;5;250m \u001b[39m\u001b[38;5;21;01msrc\u001b[39;00m\u001b[38;5;21;01m.\u001b[39;00m\u001b[38;5;21;01mconstants\u001b[39;00m\u001b[38;5;250m \u001b[39m\u001b[38;5;28;01mimport\u001b[39;00m CONFIG_PATH\n",
      "\u001b[1;31mModuleNotFoundError\u001b[0m: No module named 'src'"
     ]
    }
   ],
   "source": [
    "from src.constants import CONFIG_PATH"
   ]
  },
  {
   "cell_type": "code",
   "execution_count": 1,
   "metadata": {},
   "outputs": [
    {
     "name": "stdout",
     "output_type": "stream",
     "text": [
      "[WinError 3] The system cannot find the path specified: 'Documents/Projects/ECommerce Customer Churn Prediction'\n",
      "c:\\Users\\asus\\Documents\\Projects\\ECommerce Customer Churn Prediction\\notebooks\n"
     ]
    },
    {
     "name": "stderr",
     "output_type": "stream",
     "text": [
      "c:\\Users\\asus\\anaconda3\\envs\\venv\\Lib\\site-packages\\IPython\\core\\magics\\osm.py:393: UserWarning: This is now an optional IPython functionality, using bookmarks requires you to install the `pickleshare` library.\n",
      "  bkms = self.shell.db.get('bookmarks', {})\n"
     ]
    }
   ],
   "source": [
    "cd \"Documents/Projects/ECommerce Customer Churn Prediction\""
   ]
  },
  {
   "cell_type": "code",
   "execution_count": 2,
   "metadata": {},
   "outputs": [
    {
     "data": {
      "text/plain": [
       "'c:\\\\Users\\\\asus\\\\Documents\\\\Projects\\\\ECommerce Customer Churn Prediction\\\\notebooks'"
      ]
     },
     "execution_count": 2,
     "metadata": {},
     "output_type": "execute_result"
    }
   ],
   "source": [
    "pwd"
   ]
  },
  {
   "cell_type": "code",
   "execution_count": 5,
   "metadata": {},
   "outputs": [
    {
     "name": "stdout",
     "output_type": "stream",
     "text": [
      "c:\\Users\\asus\\Documents\\Projects\\ECommerce Customer Churn Prediction\n"
     ]
    },
    {
     "name": "stderr",
     "output_type": "stream",
     "text": [
      "c:\\Users\\asus\\anaconda3\\envs\\venv\\Lib\\site-packages\\IPython\\core\\magics\\osm.py:417: UserWarning: This is now an optional IPython functionality, setting dhist requires you to install the `pickleshare` library.\n",
      "  self.shell.db['dhist'] = compress_dhist(dhist)[-100:]\n"
     ]
    }
   ],
   "source": [
    "cd .."
   ]
  },
  {
   "cell_type": "code",
   "execution_count": 2,
   "metadata": {},
   "outputs": [
    {
     "data": {
      "text/plain": [
       "'c:\\\\Users\\\\asus\\\\Documents\\\\Projects\\\\ECommerce Customer Churn Prediction\\\\notebooks'"
      ]
     },
     "execution_count": 2,
     "metadata": {},
     "output_type": "execute_result"
    }
   ],
   "source": [
    "pwd"
   ]
  },
  {
   "cell_type": "code",
   "execution_count": 2,
   "metadata": {},
   "outputs": [],
   "source": [
    "import os \n",
    "os.chdir(\"..\")"
   ]
  },
  {
   "cell_type": "code",
   "execution_count": 3,
   "metadata": {},
   "outputs": [
    {
     "data": {
      "text/plain": [
       "'c:\\\\Users\\\\asus\\\\Documents\\\\Projects\\\\ECommerce Customer Churn Prediction'"
      ]
     },
     "execution_count": 3,
     "metadata": {},
     "output_type": "execute_result"
    }
   ],
   "source": [
    "pwd"
   ]
  },
  {
   "cell_type": "code",
   "execution_count": 4,
   "metadata": {},
   "outputs": [
    {
     "name": "stdout",
     "output_type": "stream",
     "text": [
      "{'kaggle_dataset': <class 'str'>, 'gdrive_dataset': <class 'str'>, 'local_dataset': <class 'str'>, 'staging_dataset': <class 'str'>}\n"
     ]
    }
   ],
   "source": [
    "from src.constants import CONFIG_PATH,PARAMS_PATH,SCHEMA_PATH\n",
    "from src.utils.common import read_yaml\n",
    "from src.entity.data_ingestion import DataIngestionConfig\n",
    "\n",
    "print(DataIngestionConfig.__annotations__)\n",
    "\n",
    "\n",
    "class ConfigurationManager:\n",
    "    def __init__(self,config_path=CONFIG_PATH,params_path=PARAMS_PATH,schema_path=SCHEMA_PATH):\n",
    "        self.config=read_yaml(config_path),\n",
    "        self.params=read_yaml(params_path),\n",
    "        self.schema=read_yaml(schema_path)\n",
    "    def get_data_ingestion_config(self)->DataIngestionConfig:\n",
    "        config=self.config[0].data\n",
    "        data_ingestion=DataIngestionConfig(\n",
    "            kaggle_dataset=config.kaggle_source_path,\n",
    "            gdrive_dataset=config.gdrive_source_path,\n",
    "            local_dataset=config.raw,\n",
    "            staging_dataset=config.interim\n",
    "        )\n",
    "        return data_ingestion"
   ]
  },
  {
   "cell_type": "code",
   "execution_count": 5,
   "metadata": {},
   "outputs": [
    {
     "name": "stdout",
     "output_type": "stream",
     "text": [
      "[2025-02-21 18:01:25,844 : INFO: common: yaml file config\\config.yaml loaded successfully!]\n",
      "[2025-02-21 18:01:25,854 : INFO: common: yaml file config\\params.yaml loaded successfully!]\n",
      "[2025-02-21 18:01:25,859 : INFO: common: yaml file config\\schema.yaml loaded successfully!]\n",
      "DataIngestionConfig(kaggle_dataset='ankitverma2010/ecommerce-customer-churn-analysis-and-prediction', gdrive_dataset='https://drive.google.com/uc?id=1L33uQvZl0D2gNnu79tbJnjuX0ZAzr9_C', local_dataset='data/raw/', staging_dataset='data/interim/')\n"
     ]
    }
   ],
   "source": [
    "config=ConfigurationManager()\n",
    "print(config.get_data_ingestion_config())"
   ]
  },
  {
   "cell_type": "code",
   "execution_count": 7,
   "metadata": {},
   "outputs": [
    {
     "name": "stderr",
     "output_type": "stream",
     "text": [
      "c:\\Users\\asus\\anaconda3\\envs\\venv\\Lib\\site-packages\\tqdm\\auto.py:21: TqdmWarning: IProgress not found. Please update jupyter and ipywidgets. See https://ipywidgets.readthedocs.io/en/stable/user_install.html\n",
      "  from .autonotebook import tqdm as notebook_tqdm\n"
     ]
    }
   ],
   "source": [
    "import os\n",
    "import pandas as pd\n",
    "import kagglehub\n",
    "import shutil\n",
    "import gdown\n",
    "\n",
    "class DataIngestion:\n",
    "    def __init__(self):\n",
    "        self.config=ConfigurationManager().get_data_ingestion_config()\n",
    "    def download_kaggle_data(self):\n",
    "        path = kagglehub.dataset_download(self.config.kaggle_dataset,force_download=True)\n",
    "        if(os.path.exists(self.config.local_dataset+\"1/\") and os.path.isdir(self.config.local_dataset+\"1/\")):\n",
    "            shutil.rmtree(self.config.local_dataset+\"1/\")\n",
    "        shutil.move(path,self.config.local_dataset)\n",
    "        return pd.read_excel(self.config.local_dataset+'1/E Commerce Dataset.xlsx',sheet_name=1)\n",
    "    def gdrive_data(self):\n",
    "        #dowload data from public dataset hosted in gdrive\n",
    "        if(os.path.exists(self.config.local_dataset+\"EComm_gdrive_raw_data.xlsx\")):\n",
    "            os.remove(self.config.local_dataset+\"EComm_gdrive_raw_data.xlsx\")\n",
    "        gdown.download(self.config.gdrive_dataset,\"data/raw/EComm_gdrive_raw_data.xlsx\",quiet=False)\n",
    "        return pd.read_excel(self.config.local_dataset+'EComm_gdrive_raw_data.xlsx',sheet_name=1,engine='openpyxl')\n",
    "    def run(self):\n",
    "        kaggle_data_df=self.download_kaggle_data()\n",
    "        gdrive_data_df=self.gdrive_data()\n",
    "        \n",
    "        #Ensuring both datasets have same schema\n",
    "        total_rows=len(kaggle_data_df)\n",
    "        half_size=total_rows//2\n",
    "        \n",
    "        half_kaggle=kaggle_data_df.iloc[:half_size]\n",
    "        half_gdrive=gdrive_data_df.iloc[-half_size:]\n",
    "        \n",
    "        combined_data=pd.concat([half_kaggle,half_gdrive],ignore_index=True)\n",
    "        return combined_data.to_csv(self.config.staging_dataset+\"Combined_dataset_churn_prediction.csv\")\n",
    "    \n",
    "        \n",
    "        \n",
    "        \n",
    "            \n",
    "        \n",
    "        \n",
    "        \n"
   ]
  },
  {
   "cell_type": "markdown",
   "metadata": {},
   "source": []
  },
  {
   "cell_type": "code",
   "execution_count": 9,
   "metadata": {},
   "outputs": [
    {
     "name": "stdout",
     "output_type": "stream",
     "text": [
      "[2025-02-21 18:02:36,750 : INFO: common: yaml file config\\config.yaml loaded successfully!]\n",
      "[2025-02-21 18:02:36,757 : INFO: common: yaml file config\\params.yaml loaded successfully!]\n",
      "[2025-02-21 18:02:36,763 : INFO: common: yaml file config\\schema.yaml loaded successfully!]\n",
      "Downloading from https://www.kaggle.com/api/v1/datasets/download/ankitverma2010/ecommerce-customer-churn-analysis-and-prediction?dataset_version_number=1...\n"
     ]
    },
    {
     "name": "stderr",
     "output_type": "stream",
     "text": [
      "100%|██████████| 532k/532k [00:01<00:00, 433kB/s]"
     ]
    },
    {
     "name": "stdout",
     "output_type": "stream",
     "text": [
      "Extracting files...\n"
     ]
    },
    {
     "name": "stderr",
     "output_type": "stream",
     "text": [
      "\n",
      "Downloading...\n",
      "From: https://drive.google.com/uc?id=1L33uQvZl0D2gNnu79tbJnjuX0ZAzr9_C\n",
      "To: c:\\Users\\asus\\Documents\\Projects\\ECommerce Customer Churn Prediction\\data\\raw\\EComm_gdrive_raw_data.xlsx\n",
      "100%|██████████| 556k/556k [00:00<00:00, 2.07MB/s]\n"
     ]
    }
   ],
   "source": [
    "ingestion=DataIngestion()\n",
    "df=ingestion.run()\n",
    "df"
   ]
  },
  {
   "cell_type": "code",
   "execution_count": null,
   "metadata": {},
   "outputs": [],
   "source": [
    "import shutil\n",
    "shutil.move(r\"C:\\Users\\asus\\.cache\\kagglehub\\datasets\\ankitverma2010\\ecommerce-customer-churn-analysis-and-prediction\\versions\\1\")"
   ]
  }
 ],
 "metadata": {
  "kernelspec": {
   "display_name": "venv",
   "language": "python",
   "name": "python3"
  },
  "language_info": {
   "codemirror_mode": {
    "name": "ipython",
    "version": 3
   },
   "file_extension": ".py",
   "mimetype": "text/x-python",
   "name": "python",
   "nbconvert_exporter": "python",
   "pygments_lexer": "ipython3",
   "version": "3.11.11"
  }
 },
 "nbformat": 4,
 "nbformat_minor": 2
}
